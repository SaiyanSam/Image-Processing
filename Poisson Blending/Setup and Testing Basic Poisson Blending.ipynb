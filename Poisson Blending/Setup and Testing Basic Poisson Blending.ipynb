{
 "cells": [
  {
   "cell_type": "markdown",
   "metadata": {},
   "source": [
    "# Earlier version, was creating artifacts"
   ]
  },
  {
   "cell_type": "code",
   "execution_count": 20,
   "metadata": {},
   "outputs": [],
   "source": [
    "import cv2\n",
    "import numpy as np\n",
    "\n",
    "# Load the foreground (car) and background (street) images\n",
    "foreground = cv2.imread('car.png', cv2.IMREAD_UNCHANGED)\n",
    "background = cv2.imread('street.jpg')\n",
    "\n",
    "# If the foreground is RGBA (with alpha), separate the alpha channel\n",
    "if foreground.shape[2] == 4:\n",
    "    alpha_channel = foreground[:, :, 3]  # Get the alpha channel\n",
    "    foreground = foreground[:, :, :3]    # Remove the alpha channel for blending\n",
    "\n",
    "# Create a mask from the alpha channel (if available), otherwise create a binary mask\n",
    "mask = cv2.cvtColor(foreground, cv2.COLOR_BGR2GRAY)\n",
    "_, mask = cv2.threshold(mask, 1, 255, cv2.THRESH_BINARY)\n",
    "\n",
    "# Resize the car if it's too large for the street background\n",
    "bg_height, bg_width = background.shape[:2]\n",
    "fg_height, fg_width = foreground.shape[:2]\n",
    "\n",
    "# Ensure the foreground fits within the background\n",
    "if fg_width > bg_width or fg_height > bg_height:\n",
    "    scale_factor = min(bg_width / fg_width, bg_height / fg_height)\n",
    "    foreground = cv2.resize(foreground, (int(fg_width * scale_factor), int(fg_height * scale_factor)))\n",
    "    mask = cv2.resize(mask, (int(fg_width * scale_factor), int(fg_height * scale_factor)))\n",
    "\n",
    "# Define the position where the car should be placed on the street\n",
    "# Let's position it in the middle of the street\n",
    "center_x = bg_width // 2\n",
    "center_y = int(bg_height * 0.75)  # Lower part of the street\n",
    "center = (center_x, center_y)\n",
    "\n",
    "# Perform Poisson blending\n",
    "blended_image = cv2.seamlessClone(foreground, background, mask, center, cv2.NORMAL_CLONE)\n",
    "\n",
    "# Show the result\n",
    "cv2.imshow('Blended Image', blended_image)\n",
    "cv2.imwrite('blended_car_on_street.jpg', blended_image)\n",
    "cv2.waitKey(0)\n",
    "cv2.destroyAllWindows()"
   ]
  },
  {
   "cell_type": "markdown",
   "metadata": {},
   "source": [
    "# Updated code, no artifacts"
   ]
  },
  {
   "cell_type": "code",
   "execution_count": 23,
   "metadata": {},
   "outputs": [],
   "source": [
    "import cv2\n",
    "import numpy as np\n",
    "\n",
    "# Load the images\n",
    "foreground = cv2.imread('car.png', cv2.IMREAD_UNCHANGED)\n",
    "background = cv2.imread('street.jpg')\n",
    "\n",
    "# Check if foreground has an alpha channel (transparency)\n",
    "if foreground.shape[2] == 4:\n",
    "    # Extract the alpha channel (used as a mask)\n",
    "    alpha_channel = foreground[:, :, 3]\n",
    "    mask = alpha_channel\n",
    "    # Convert the image to BGR (remove alpha channel for blending)\n",
    "    foreground = foreground[:, :, :3]\n",
    "else:\n",
    "    # Create a mask from the brightness of the image if no alpha channel is present\n",
    "    gray_foreground = cv2.cvtColor(foreground, cv2.COLOR_BGR2GRAY)\n",
    "    _, mask = cv2.threshold(gray_foreground, 1, 255, cv2.THRESH_BINARY)\n",
    "\n",
    "# Resize the foreground if it's too large for the background\n",
    "bg_height, bg_width = background.shape[:2]\n",
    "fg_height, fg_width = foreground.shape[:2]\n",
    "\n",
    "if fg_width > bg_width or fg_height > bg_height:\n",
    "    scale = min(bg_width / fg_width, bg_height / fg_height)\n",
    "    foreground = cv2.resize(foreground, (int(fg_width * scale), int(fg_height * scale)))\n",
    "    mask = cv2.resize(mask, (int(fg_width * scale), int(fg_height * scale)))\n",
    "\n",
    "# Position the car on the street\n",
    "center = (bg_width // 2, int(bg_height * 0.75))\n",
    "\n",
    "# Perform Poisson blending\n",
    "blended_image = cv2.seamlessClone(foreground, background, mask, center, cv2.NORMAL_CLONE)\n",
    "\n",
    "# Show and save the result\n",
    "cv2.imshow('Blended Image', blended_image)\n",
    "cv2.imwrite('blended_car_on_street_fixed.jpg', blended_image)\n",
    "cv2.waitKey(0)\n",
    "cv2.destroyAllWindows()\n"
   ]
  },
  {
   "cell_type": "code",
   "execution_count": null,
   "metadata": {},
   "outputs": [],
   "source": []
  }
 ],
 "metadata": {
  "kernelspec": {
   "display_name": "Python 3",
   "language": "python",
   "name": "python3"
  },
  "language_info": {
   "codemirror_mode": {
    "name": "ipython",
    "version": 3
   },
   "file_extension": ".py",
   "mimetype": "text/x-python",
   "name": "python",
   "nbconvert_exporter": "python",
   "pygments_lexer": "ipython3",
   "version": "3.8.5"
  }
 },
 "nbformat": 4,
 "nbformat_minor": 4
}
