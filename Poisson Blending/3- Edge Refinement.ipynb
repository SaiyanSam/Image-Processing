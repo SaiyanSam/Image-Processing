{
 "cells": [
  {
   "cell_type": "code",
   "execution_count": 9,
   "metadata": {},
   "outputs": [],
   "source": [
    "import cv2\n",
    "import numpy as np\n",
    "\n",
    "# Load the foreground (car) and background (street)\n",
    "foreground = cv2.imread('2.png', cv2.IMREAD_UNCHANGED)\n",
    "background = cv2.imread('1.jpeg')\n",
    "\n",
    "# Handle mask from alpha channel (if it exists)\n",
    "if foreground.shape[2] == 4:\n",
    "    alpha_channel = foreground[:, :, 3]\n",
    "    mask = alpha_channel\n",
    "    foreground = foreground[:, :, :3]  # Remove the alpha channel for blending\n",
    "else:\n",
    "    gray_foreground = cv2.cvtColor(foreground, cv2.COLOR_BGR2GRAY)\n",
    "    _, mask = cv2.threshold(gray_foreground, 1, 255, cv2.THRESH_BINARY)\n",
    "\n",
    "# Apply Gaussian blur to soften the mask edges\n",
    "blurred_mask = cv2.GaussianBlur(mask, (19, 19), 0)  # Adjust kernel size for desired softness\n",
    "\n",
    "# Define center position for blending\n",
    "bg_height, bg_width = background.shape[:2]\n",
    "center = (bg_width // 2, int(bg_height * 0.8))\n",
    "\n",
    "# Perform Poisson blending with blurred mask\n",
    "blended_image = cv2.seamlessClone(foreground, background, blurred_mask, center, cv2.NORMAL_CLONE)\n",
    "\n",
    "# Display and save the result\n",
    "cv2.imshow('Blended Image with Refined Edges', blended_image)\n",
    "cv2.imwrite('blended_with_edge_refinement19x19.jpg', blended_image)\n",
    "cv2.waitKey(0)\n",
    "cv2.destroyAllWindows()"
   ]
  },
  {
   "cell_type": "code",
   "execution_count": null,
   "metadata": {},
   "outputs": [],
   "source": []
  }
 ],
 "metadata": {
  "kernelspec": {
   "display_name": "Python 3",
   "language": "python",
   "name": "python3"
  },
  "language_info": {
   "codemirror_mode": {
    "name": "ipython",
    "version": 3
   },
   "file_extension": ".py",
   "mimetype": "text/x-python",
   "name": "python",
   "nbconvert_exporter": "python",
   "pygments_lexer": "ipython3",
   "version": "3.8.5"
  }
 },
 "nbformat": 4,
 "nbformat_minor": 4
}
