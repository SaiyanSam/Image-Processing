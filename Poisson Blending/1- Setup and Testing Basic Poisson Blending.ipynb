{
 "cells": [
  {
   "cell_type": "markdown",
   "metadata": {},
   "source": [
    "# Earlier version, was creating artifacts, but now fixed"
   ]
  },
  {
   "cell_type": "code",
   "execution_count": 1,
   "metadata": {},
   "outputs": [],
   "source": [
    "import cv2\n",
    "import numpy as np\n",
    "\n",
    "# Load images\n",
    "foreground = cv2.imread('car.png', cv2.IMREAD_UNCHANGED)\n",
    "background = cv2.imread('street.jpg')\n",
    "\n",
    "if foreground.shape[2] == 4:\n",
    "    # 4 channels imply alpha channel present\n",
    "    alpha_channel = foreground[:, :, 3]  # Get the alpha channel\n",
    "    mask = alpha_channel\n",
    "    foreground = foreground[:, :, :3]    # Remove the alpha channel for blending\n",
    "else:\n",
    "    # if no alpha channel then create one\n",
    "    mask = cv2.cvtColor(foreground, cv2.COLOR_BGR2GRAY)\n",
    "    _, mask = cv2.threshold(mask, 1, 255, cv2.THRESH_BINARY)\n",
    "\n",
    "# Resizing foreground if it's too large for the background\n",
    "bg_height, bg_width = background.shape[:2]\n",
    "fg_height, fg_width = foreground.shape[:2]\n",
    "\n",
    "# Ensure the foreground fits within the background\n",
    "if fg_width > bg_width or fg_height > bg_height:\n",
    "    scale_factor = min(bg_width / fg_width, bg_height / fg_height)\n",
    "    foreground = cv2.resize(foreground, (int(fg_width * scale_factor), int(fg_height * scale_factor)))\n",
    "    mask = cv2.resize(mask, (int(fg_width * scale_factor), int(fg_height * scale_factor)))\n",
    "\n",
    "# x-axis position in the middle of the background\n",
    "center_x = bg_width // 2\n",
    "# y-axis position in the lower part of the background\n",
    "center_y = int(bg_height * 0.75)  \n",
    "center = (center_x, center_y)\n",
    "\n",
    "# Poisson blending\n",
    "blended_image = cv2.seamlessClone(foreground, background, mask, center, cv2.NORMAL_CLONE)\n",
    "\n",
    "cv2.imshow('Blended Image', blended_image)\n",
    "cv2.imwrite('blended_car_on_street.jpg', blended_image)\n",
    "cv2.waitKey(0)\n",
    "cv2.destroyAllWindows()"
   ]
  },
  {
   "cell_type": "code",
   "execution_count": null,
   "metadata": {},
   "outputs": [],
   "source": []
  }
 ],
 "metadata": {
  "kernelspec": {
   "display_name": "Python 3",
   "language": "python",
   "name": "python3"
  },
  "language_info": {
   "codemirror_mode": {
    "name": "ipython",
    "version": 3
   },
   "file_extension": ".py",
   "mimetype": "text/x-python",
   "name": "python",
   "nbconvert_exporter": "python",
   "pygments_lexer": "ipython3",
   "version": "3.8.5"
  }
 },
 "nbformat": 4,
 "nbformat_minor": 4
}
