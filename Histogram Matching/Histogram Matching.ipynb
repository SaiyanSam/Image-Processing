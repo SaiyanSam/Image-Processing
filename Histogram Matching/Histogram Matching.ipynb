{
 "cells": [
  {
   "cell_type": "markdown",
   "id": "bb6d0e9f",
   "metadata": {},
   "source": [
    "Convert Images to a Suitable Color Space: Convert the images to a color space where luminance and chrominance are separated, such as LAB or YCrCb."
   ]
  },
  {
   "cell_type": "code",
   "execution_count": 7,
   "id": "c6c08055",
   "metadata": {},
   "outputs": [],
   "source": [
    "import cv2\n",
    "source_img = cv2.imread('Images/FLUX 1.png')\n",
    "target_img = cv2.imread('Images/dark_forest.png')\n",
    "\n",
    "source_lab = cv2.cvtColor(source_img, cv2.COLOR_BGR2LAB)\n",
    "target_lab = cv2.cvtColor(target_img, cv2.COLOR_BGR2LAB)"
   ]
  },
  {
   "cell_type": "markdown",
   "id": "bda88b1d",
   "metadata": {},
   "source": [
    "**Match the Histogram:** Use a custom function to match the histograms of the source image to the target image. OpenCV doesn't have a direct function for this, so you'll need to manually adjust the color channels."
   ]
  },
  {
   "cell_type": "code",
   "execution_count": 8,
   "id": "b7ddedc4",
   "metadata": {},
   "outputs": [],
   "source": [
    "import numpy as np\n",
    "\n",
    "def match_histograms(source, template):\n",
    "    matched = np.zeros_like(source)\n",
    "    for i in range(3):  # Assuming LAB or YCrCb with 3 channels\n",
    "        s_values, s_counts = np.unique(source[:, :, i], return_counts=True)\n",
    "        t_values, t_counts = np.unique(template[:, :, i], return_counts=True)\n",
    "\n",
    "        s_quantiles = np.cumsum(s_counts).astype(np.float64)\n",
    "        s_quantiles /= s_quantiles[-1]\n",
    "        t_quantiles = np.cumsum(t_counts).astype(np.float64)\n",
    "        t_quantiles /= t_quantiles[-1]\n",
    "\n",
    "        interp_t_values = np.interp(s_quantiles, t_quantiles, t_values)\n",
    "\n",
    "        matched[:, :, i] = np.interp(source[:, :, i], s_values, interp_t_values)\n",
    "    return matched\n",
    "\n",
    "matched_lab = match_histograms(source_lab, target_lab)"
   ]
  },
  {
   "cell_type": "markdown",
   "id": "62b46d2a",
   "metadata": {},
   "source": [
    "**Convert Back to BGR:** After matching the histogram, convert the LAB image back to BGR."
   ]
  },
  {
   "cell_type": "code",
   "execution_count": 9,
   "id": "c98f36ea",
   "metadata": {},
   "outputs": [
    {
     "data": {
      "text/plain": [
       "True"
      ]
     },
     "execution_count": 9,
     "metadata": {},
     "output_type": "execute_result"
    }
   ],
   "source": [
    "matched_bgr = cv2.cvtColor(matched_lab, cv2.COLOR_LAB2BGR)\n",
    "cv2.imwrite('darkview.jpg', matched_bgr)"
   ]
  },
  {
   "cell_type": "code",
   "execution_count": null,
   "id": "ff752f77",
   "metadata": {},
   "outputs": [],
   "source": []
  }
 ],
 "metadata": {
  "kernelspec": {
   "display_name": "Python 3 (ipykernel)",
   "language": "python",
   "name": "python3"
  },
  "language_info": {
   "codemirror_mode": {
    "name": "ipython",
    "version": 3
   },
   "file_extension": ".py",
   "mimetype": "text/x-python",
   "name": "python",
   "nbconvert_exporter": "python",
   "pygments_lexer": "ipython3",
   "version": "3.8.19"
  }
 },
 "nbformat": 4,
 "nbformat_minor": 5
}
